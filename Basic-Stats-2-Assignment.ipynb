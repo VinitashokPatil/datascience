{
 "cells": [
  {
   "cell_type": "markdown",
   "metadata": {},
   "source": [
    "### Estimation and Confidence Intervals Assignments"
   ]
  },
  {
   "cell_type": "code",
   "execution_count": 1,
   "metadata": {},
   "outputs": [],
   "source": [
    "#import the libraries\n",
    "import pandas as pd\n",
    "import numpy as np\n",
    "from scipy import stats"
   ]
  },
  {
   "cell_type": "code",
   "execution_count": 2,
   "metadata": {},
   "outputs": [
    {
     "data": {
      "text/plain": [
       "0     1.13\n",
       "1     1.55\n",
       "2     1.43\n",
       "3     0.92\n",
       "4     1.25\n",
       "5     1.36\n",
       "6     1.32\n",
       "7     0.85\n",
       "8     1.07\n",
       "9     1.48\n",
       "10    1.20\n",
       "11    1.33\n",
       "12    1.18\n",
       "13    1.22\n",
       "14    1.29\n",
       "dtype: float64"
      ]
     },
     "execution_count": 2,
     "metadata": {},
     "output_type": "execute_result"
    }
   ],
   "source": [
    "durability  = pd.Series([1.13, 1.55, 1.43, 0.92, 1.25, 1.36, 1.32, 0.85, 1.07, 1.48, 1.20, 1.33, 1.18, 1.22, 1.29])\n",
    "durability"
   ]
  },
  {
   "cell_type": "markdown",
   "metadata": {},
   "source": [
    "### Part a\n",
    "Build 99% Confidence Interval Using Sample Standard Deviation\n",
    "Assuming the sample is representative of the population, construct a 99% confidence interval for the mean number of characters printed before the print-head fails using the sample standard deviation. Explain the steps you take and the rationale behind using the t-distribution for this task.\n"
   ]
  },
  {
   "cell_type": "code",
   "execution_count": 3,
   "metadata": {},
   "outputs": [
    {
     "name": "stdout",
     "output_type": "stream",
     "text": [
      "Sample size (n):  15\n",
      "Significance level (alpha):  0.010000000000000009\n",
      "Sample mean:  1.2386666666666666\n",
      "Sample std. dev. : 0.18661427836285438\n"
     ]
    }
   ],
   "source": [
    "n = len(durability)\n",
    "alpha = 1-0.99  # significant level = 1 - confidence level\n",
    "x_bar = np.mean(durability)\n",
    "sample_std_dev = np.std(durability)\n",
    "\n",
    "print(\"Sample size (n): \", n)\n",
    "print(\"Significance level (alpha): \", alpha)\n",
    "print(\"Sample mean: \",x_bar)\n",
    "print(\"Sample std. dev. :\", sample_std_dev)"
   ]
  },
  {
   "cell_type": "markdown",
   "metadata": {},
   "source": [
    "Since the population mean is unknown and sample size of 15 < 30 , we cannot use CLT. Therefore, the t-distribution is applicable here instead of z-distribution.\n",
    "\n",
    "=> **99% T-Confidence interval for mean durability of the printer heads**"
   ]
  },
  {
   "cell_type": "code",
   "execution_count": 4,
   "metadata": {},
   "outputs": [
    {
     "name": "stdout",
     "output_type": "stream",
     "text": [
      "(1.238051885567337,1.2392814477664316)\n"
     ]
    }
   ],
   "source": [
    "std_error = sample_std_dev/np.sqrt(n)\n",
    "\n",
    "lower_bound, upper_bound = stats.t.interval(confidence=alpha,\n",
    "                df=n-1,\n",
    "                loc=x_bar,\n",
    "                scale=std_error)\n",
    "\n",
    "print(f\"({lower_bound},{upper_bound})\")"
   ]
  },
  {
   "cell_type": "markdown",
   "metadata": {},
   "source": [
    "Since the population mean is unknown and sample size of 15 < 30 , we cannot use CLT. Therefore, the t-distribution is applicable here instead of z-distribution.\n",
    "\n",
    "=> **99% T-Confidence interval for mean durability of the printer heads**"
   ]
  },
  {
   "cell_type": "code",
   "execution_count": 5,
   "metadata": {},
   "outputs": [
    {
     "data": {
      "text/plain": [
       "True"
      ]
     },
     "execution_count": 5,
     "metadata": {},
     "output_type": "execute_result"
    }
   ],
   "source": [
    "(x_bar <= upper_bound) and (x_bar >= lower_bound)"
   ]
  },
  {
   "cell_type": "code",
   "execution_count": 6,
   "metadata": {},
   "outputs": [
    {
     "name": "stdout",
     "output_type": "stream",
     "text": [
      "We are 99% confident that the population mean number of characters (in million) printed before the print-head fails is between 1.238051885567337 and 1.2392814477664316 \n"
     ]
    }
   ],
   "source": [
    "print(f\"We are 99% confident that the population mean number of characters (in million) printed before the print-head fails\" +\n",
    "      f\" is between {lower_bound} and {upper_bound} \" )"
   ]
  },
  {
   "cell_type": "markdown",
   "metadata": {},
   "source": [
    "### Part b\n",
    "If it were known that the population standard deviation is 0.2 million characters, construct a 99% confidence interval for the mean number of characters printed before failure."
   ]
  },
  {
   "cell_type": "markdown",
   "metadata": {},
   "source": [
    "Since popluation standard deviation is known we will construct a Z confidence interval.\n",
    "\n",
    "=> 99% Z-confidence interval "
   ]
  },
  {
   "cell_type": "code",
   "execution_count": 7,
   "metadata": {},
   "outputs": [
    {
     "name": "stdout",
     "output_type": "stream",
     "text": [
      "(1.238019441084334,1.2393138922489992)\n"
     ]
    }
   ],
   "source": [
    "sigma = 0.2\n",
    "std_error = sigma/np.sqrt(n)\n",
    "\n",
    "lower_bound, upper_bound = stats.norm.interval(\n",
    "    confidence=alpha,\n",
    "    loc=x_bar, \n",
    "    scale=std_error)\n",
    "\n",
    "print(f\"({lower_bound},{upper_bound})\")"
   ]
  },
  {
   "cell_type": "code",
   "execution_count": 8,
   "metadata": {},
   "outputs": [
    {
     "name": "stdout",
     "output_type": "stream",
     "text": [
      "We are 99% confident that the population mean number of characters (in million) printed before the print-head fails is between 1.238019441084334 and 1.2393138922489992 \n"
     ]
    }
   ],
   "source": [
    "print(f\"We are 99% confident that the population mean number of characters (in million) printed before the print-head fails\" +\n",
    "      f\" is between {lower_bound} and {upper_bound} \" )"
   ]
  }
 ],
 "metadata": {
  "kernelspec": {
   "display_name": "Python 3 (ipykernel)",
   "language": "python",
   "name": "python3"
  },
  "language_info": {
   "codemirror_mode": {
    "name": "ipython",
    "version": 3
   },
   "file_extension": ".py",
   "mimetype": "text/x-python",
   "name": "python",
   "nbconvert_exporter": "python",
   "pygments_lexer": "ipython3",
   "version": "3.11.5"
  }
 },
 "nbformat": 4,
 "nbformat_minor": 2
}
